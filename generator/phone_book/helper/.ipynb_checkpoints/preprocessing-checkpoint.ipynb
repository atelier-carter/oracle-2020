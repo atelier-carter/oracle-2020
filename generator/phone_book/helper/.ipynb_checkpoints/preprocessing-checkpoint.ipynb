{
 "cells": [
  {
   "cell_type": "code",
   "execution_count": 1,
   "metadata": {},
   "outputs": [],
   "source": [
    "import pandas as pd\n",
    "import numpy as np"
   ]
  },
  {
   "cell_type": "code",
   "execution_count": 2,
   "metadata": {},
   "outputs": [],
   "source": [
    "df = pd.read_csv('../data/phonebook_dataset.csv', sep=',')"
   ]
  },
  {
   "cell_type": "code",
   "execution_count": 3,
   "metadata": {},
   "outputs": [
    {
     "data": {
      "text/html": [
       "<div>\n",
       "<style scoped>\n",
       "    .dataframe tbody tr th:only-of-type {\n",
       "        vertical-align: middle;\n",
       "    }\n",
       "\n",
       "    .dataframe tbody tr th {\n",
       "        vertical-align: top;\n",
       "    }\n",
       "\n",
       "    .dataframe thead th {\n",
       "        text-align: right;\n",
       "    }\n",
       "</style>\n",
       "<table border=\"1\" class=\"dataframe\">\n",
       "  <thead>\n",
       "    <tr style=\"text-align: right;\">\n",
       "      <th></th>\n",
       "      <th>LastName</th>\n",
       "      <th>FirstName</th>\n",
       "      <th>MI</th>\n",
       "      <th>PhoneNumber</th>\n",
       "      <th>Agency</th>\n",
       "      <th>Room</th>\n",
       "      <th>Building</th>\n",
       "    </tr>\n",
       "  </thead>\n",
       "  <tbody>\n",
       "    <tr>\n",
       "      <th>0</th>\n",
       "      <td>Aaronson</td>\n",
       "      <td>Andrew</td>\n",
       "      <td>C</td>\n",
       "      <td>202-720-5791</td>\n",
       "      <td>WAOB</td>\n",
       "      <td>rm4411</td>\n",
       "      <td>SOAGRIBG</td>\n",
       "    </tr>\n",
       "    <tr>\n",
       "      <th>1</th>\n",
       "      <td>Abad</td>\n",
       "      <td>Gloria</td>\n",
       "      <td>NaN</td>\n",
       "      <td>301-851-2125</td>\n",
       "      <td>APHIS</td>\n",
       "      <td>unit133</td>\n",
       "      <td>RIVER-RD</td>\n",
       "    </tr>\n",
       "    <tr>\n",
       "      <th>2</th>\n",
       "      <td>Abad</td>\n",
       "      <td>Jorge</td>\n",
       "      <td>NaN</td>\n",
       "      <td>301-851-2227</td>\n",
       "      <td>APHIS</td>\n",
       "      <td>Unit133</td>\n",
       "      <td>RIVER-RD</td>\n",
       "    </tr>\n",
       "    <tr>\n",
       "      <th>3</th>\n",
       "      <td>Abad</td>\n",
       "      <td>Patricia</td>\n",
       "      <td>NaN</td>\n",
       "      <td>301-851-2264</td>\n",
       "      <td>APHIS</td>\n",
       "      <td>unit130</td>\n",
       "      <td>RIVER-RD</td>\n",
       "    </tr>\n",
       "    <tr>\n",
       "      <th>4</th>\n",
       "      <td>Abbey</td>\n",
       "      <td>Bonita</td>\n",
       "      <td>NaN</td>\n",
       "      <td>202-720-5907</td>\n",
       "      <td>OIG</td>\n",
       "      <td>406-E</td>\n",
       "      <td>WHITTENBG</td>\n",
       "    </tr>\n",
       "  </tbody>\n",
       "</table>\n",
       "</div>"
      ],
      "text/plain": [
       "   LastName FirstName   MI   PhoneNumber Agency     Room   Building\n",
       "0  Aaronson    Andrew    C  202-720-5791   WAOB   rm4411   SOAGRIBG\n",
       "1      Abad    Gloria  NaN  301-851-2125  APHIS  unit133   RIVER-RD\n",
       "2      Abad     Jorge  NaN  301-851-2227  APHIS  Unit133   RIVER-RD\n",
       "3      Abad  Patricia  NaN  301-851-2264  APHIS  unit130   RIVER-RD\n",
       "4     Abbey    Bonita  NaN  202-720-5907    OIG    406-E  WHITTENBG"
      ]
     },
     "execution_count": 3,
     "metadata": {},
     "output_type": "execute_result"
    }
   ],
   "source": [
    "df.head()"
   ]
  },
  {
   "cell_type": "code",
   "execution_count": 4,
   "metadata": {},
   "outputs": [
    {
     "data": {
      "text/html": [
       "<div>\n",
       "<style scoped>\n",
       "    .dataframe tbody tr th:only-of-type {\n",
       "        vertical-align: middle;\n",
       "    }\n",
       "\n",
       "    .dataframe tbody tr th {\n",
       "        vertical-align: top;\n",
       "    }\n",
       "\n",
       "    .dataframe thead th {\n",
       "        text-align: right;\n",
       "    }\n",
       "</style>\n",
       "<table border=\"1\" class=\"dataframe\">\n",
       "  <thead>\n",
       "    <tr style=\"text-align: right;\">\n",
       "      <th></th>\n",
       "      <th>LastName</th>\n",
       "      <th>FirstName</th>\n",
       "      <th>PhoneNumber</th>\n",
       "    </tr>\n",
       "  </thead>\n",
       "  <tbody>\n",
       "    <tr>\n",
       "      <th>0</th>\n",
       "      <td>Aaronson</td>\n",
       "      <td>Andrew</td>\n",
       "      <td>202-720-5791</td>\n",
       "    </tr>\n",
       "    <tr>\n",
       "      <th>1</th>\n",
       "      <td>Abad</td>\n",
       "      <td>Gloria</td>\n",
       "      <td>301-851-2125</td>\n",
       "    </tr>\n",
       "    <tr>\n",
       "      <th>2</th>\n",
       "      <td>Abad</td>\n",
       "      <td>Jorge</td>\n",
       "      <td>301-851-2227</td>\n",
       "    </tr>\n",
       "    <tr>\n",
       "      <th>3</th>\n",
       "      <td>Abad</td>\n",
       "      <td>Patricia</td>\n",
       "      <td>301-851-2264</td>\n",
       "    </tr>\n",
       "    <tr>\n",
       "      <th>4</th>\n",
       "      <td>Abbey</td>\n",
       "      <td>Bonita</td>\n",
       "      <td>202-720-5907</td>\n",
       "    </tr>\n",
       "  </tbody>\n",
       "</table>\n",
       "</div>"
      ],
      "text/plain": [
       "   LastName FirstName   PhoneNumber\n",
       "0  Aaronson    Andrew  202-720-5791\n",
       "1      Abad    Gloria  301-851-2125\n",
       "2      Abad     Jorge  301-851-2227\n",
       "3      Abad  Patricia  301-851-2264\n",
       "4     Abbey    Bonita  202-720-5907"
      ]
     },
     "execution_count": 4,
     "metadata": {},
     "output_type": "execute_result"
    }
   ],
   "source": [
    "df = df[['LastName', 'FirstName', 'PhoneNumber']]\n",
    "df.head()"
   ]
  },
  {
   "cell_type": "code",
   "execution_count": 5,
   "metadata": {},
   "outputs": [],
   "source": [
    "names = df['LastName'].astype(str) + ' ' + df['FirstName'] + ' ----- ' + df['PhoneNumber']"
   ]
  },
  {
   "cell_type": "code",
   "execution_count": 6,
   "metadata": {},
   "outputs": [],
   "source": [
    "names_df = pd.DataFrame({'Phonebook': names})"
   ]
  },
  {
   "cell_type": "code",
   "execution_count": 7,
   "metadata": {},
   "outputs": [],
   "source": [
    "names_df.reset_index(drop=True, inplace=True)"
   ]
  },
  {
   "cell_type": "code",
   "execution_count": 8,
   "metadata": {},
   "outputs": [],
   "source": [
    "names_df.to_csv('../data/phonebook.txt', index=False)"
   ]
  }
 ],
 "metadata": {
  "kernelspec": {
   "display_name": "Python 3",
   "language": "python",
   "name": "python3"
  },
  "language_info": {
   "codemirror_mode": {
    "name": "ipython",
    "version": 3
   },
   "file_extension": ".py",
   "mimetype": "text/x-python",
   "name": "python",
   "nbconvert_exporter": "python",
   "pygments_lexer": "ipython3",
   "version": "3.7.3"
  }
 },
 "nbformat": 4,
 "nbformat_minor": 2
}
